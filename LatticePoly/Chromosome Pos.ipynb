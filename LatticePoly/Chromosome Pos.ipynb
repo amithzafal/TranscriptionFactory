{
 "cells": [
  {
   "cell_type": "code",
   "execution_count": 4,
   "metadata": {},
   "outputs": [
    {
     "data": {
      "image/png": "[encoded data removed]",
      "text/plain": [
       "<Figure size 432x288 with 1 Axes>"
      ]
     },
     "metadata": {
      "needs_background": "light"
     },
     "output_type": "display_data"
    }
   ],
   "source": [
    "import numpy as np\n",
    "import matplotlib.pyplot as plt\n",
    "\n",
    "\n",
    "def sunflower(n: int, alpha: float) -> np.ndarray:\n",
    "    # Number of points respectively on the boundary and inside the cirlce.\n",
    "    n_exterior = np.round(alpha * np.sqrt(n)).astype(int)\n",
    "    n_interior = n - n_exterior\n",
    "\n",
    "    # Ensure there are still some points in the inside...\n",
    "    if n_interior < 1:\n",
    "        raise RuntimeError(f\"Parameter 'alpha' is too large ({alpha}), all \"\n",
    "                           f\"points would end-up on the boundary.\")\n",
    "    # Generate the angles. The factor k_theta corresponds to 2*pi/phi^2.\n",
    "    k_theta = np.pi * (3 - np.sqrt(5))\n",
    "    angles = np.linspace(k_theta, k_theta * n, n)\n",
    "\n",
    "    # Generate the radii.\n",
    "    r_interior = np.sqrt(np.linspace(0, 1, n_interior))\n",
    "    r_exterior = np.ones((n_exterior,))\n",
    "    r = np.concatenate((r_interior, r_exterior))\n",
    "\n",
    "    # Return Cartesian coordinates from polar ones.\n",
    "    return r * np.stack((np.cos(angles), np.sin(angles)))\n",
    "\n",
    "    # NOTE: say the returned array is called s. The layout is such that s[0,:]\n",
    "    # contains X values and s[1,:] contains Y values. Change the above to\n",
    "    #   return r.reshape(n, 1) * np.stack((np.cos(angles), np.sin(angles)), axis=1)\n",
    "    # if you want s[:,0] and s[:,1] to contain X and Y values instead.\n",
    "\n",
    "L=50\n",
    "if __name__ == '__main__':\n",
    "    fig, ax = plt.subplots()\n",
    "\n",
    "    # Let's plot three sunflowers with different values of alpha!\n",
    "    for alpha in ([0]):\n",
    "        s = sunflower(17, alpha)\n",
    "        s=((0.6*((L-0.5)/2)*s)+ (L-0.5)/2 +0.5)\n",
    "        # NOTE: the 'alpha=0.5' parameter is to control transparency, it does\n",
    "        # not have anything to do with the alpha used in 'sunflower' ;)\n",
    "        ax.scatter(np.array(s[0],dtype=int),np.array(s[1],dtype=int), alpha=0.5)\n",
    "        ax.set_xlim([0,L+0.5])\n",
    "        ax.set_ylim([0,L+0.5])\n",
    "        circle1=plt.Circle(((L-0.5)/2, (L-0.5)/2), (L)/2, color='k',fill=False)\n",
    "        ax.add_patch(circle1)\n",
    "        circle2=plt.Circle(((L-0.5)/2, (L-0.5)/2), 0.6*(L)/2, color='r',fill=False)\n",
    "        ax.add_patch(circle2)\n",
    "\n",
    "    # Display as square plot with equal axes and add a legend. Then show the result :)\n",
    "    ax.set_aspect('equal')\n",
    "    plt.show()"
   ]
  },
  {
   "cell_type": "code",
   "execution_count": null,
   "metadata": {},
   "outputs": [],
   "source": []
  },
  {
   "cell_type": "code",
   "execution_count": 27,
   "metadata": {},
   "outputs": [
    {
     "data": {
      "image/png": "[encoded data removed]",
      "text/plain": [
       "<Figure size 432x288 with 1 Axes>"
      ]
     },
     "metadata": {
      "needs_background": "light"
     },
     "output_type": "display_data"
    }
   ],
   "source": [
    "import numpy as np\n",
    "import matplotlib.pyplot as plt\n",
    "\n",
    "\n",
    "def sunflower(n: int, alpha: float) -> np.ndarray:\n",
    "    # Number of points respectively on the boundary and inside the cirlce.\n",
    "    n_exterior = np.round(alpha * np.sqrt(n)).astype(int)\n",
    "    n_interior = n - n_exterior\n",
    "\n",
    "    # Ensure there are still some points in the inside...\n",
    "    if n_interior < 1:\n",
    "        raise RuntimeError(f\"Parameter 'alpha' is too large ({alpha}), all \"\n",
    "                           f\"points would end-up on the boundary.\")\n",
    "    # Generate the angles. The factor k_theta corresponds to 2*pi/phi^2.\n",
    "    k_theta = np.pi * (3 - np.sqrt(5))\n",
    "    angles = np.linspace(k_theta, k_theta * n, n)\n",
    "\n",
    "    # Generate the radii.\n",
    "    r_interior = np.sqrt(np.linspace(0, 1, n_interior))\n",
    "    r_exterior = np.ones((n_exterior,))\n",
    "    r = np.concatenate((r_interior, r_exterior))\n",
    "\n",
    "    # Return Cartesian coordinates from polar ones.\n",
    "    return r * np.stack((np.cos(angles), np.sin(angles)))\n",
    "\n",
    "    # NOTE: say the returned array is called s. The layout is such that s[0,:]\n",
    "    # contains X values and s[1,:] contains Y values. Change the above to\n",
    "    #   return r.reshape(n, 1) * np.stack((np.cos(angles), np.sin(angles)), axis=1)\n",
    "    # if you want s[:,0] and s[:,1] to contain X and Y values instead.\n",
    "\n",
    "L=50\n",
    "if __name__ == '__main__':\n",
    "    fig, ax = plt.subplots()\n",
    "\n",
    "    # Let's plot three sunflowers with different values of alpha!\n",
    "    for alpha in ([0]):\n",
    "        s = sunflower(1000, alpha)\n",
    "        s=((((L-0.5)/2)*s)+ (L-0.5)/2 +0.5)\n",
    "\n",
    "        # NOTE: the 'alpha=0.5' parameter is to control transparency, it does\n",
    "        # not have anything to do with the alpha used in 'sunflower' ;)\n",
    "        ax.scatter(np.array(s[0],dtype=int),np.array(s[1],dtype=int),marker=\".\", alpha=0.5)\n",
    "        \n",
    "        ax.set_xlim([0,L+0.5])\n",
    "        ax.set_ylim([0,L+0.5])\n",
    "\n",
    "\n",
    "    # Display as square plot with equal axes and add a legend. Then show the result :)\n",
    "    ax.set_aspect('equal')\n",
    "    plt.show()"
   ]
  },
  {
   "cell_type": "code",
   "execution_count": 10,
   "metadata": {},
   "outputs": [
    {
     "data": {
      "image/png": "[encoded data removed]",
      "text/plain": [
       "<Figure size 432x288 with 1 Axes>"
      ]
     },
     "metadata": {
      "needs_background": "light"
     },
     "output_type": "display_data"
    }
   ],
   "source": [
    "from math import sqrt, sin, cos, pi\n",
    "phi = (1 + sqrt(5)) / 2  # golden ratio\n",
    "\n",
    "def sunflower(n, alpha=0, geodesic=False):\n",
    "    points = []\n",
    "    angle_stride = 360 * phi if geodesic else 2 * pi / phi ** 2\n",
    "    b = round(alpha * sqrt(n))  # number of boundary points\n",
    "    for k in range(1, n + 1):\n",
    "        r = radius(k, n, b)\n",
    "        theta = k * angle_stride\n",
    "        points.append((r * cos(theta), r * sin(theta)))\n",
    "    return points\n",
    "\n",
    "def radius(k, n, b):\n",
    "    if k > n - b:\n",
    "        return 1.0\n",
    "    else:\n",
    "        return sqrt(k - 0.5) / sqrt(n - (b + 1) / 2)\n",
    "\n",
    "\n",
    "# example\n",
    "if __name__ == '__main__':\n",
    "    import matplotlib.pyplot as plt\n",
    "    fig, ax = plt.subplots()\n",
    "    points = sunflower(17, alpha=2, geodesic=False)\n",
    "    xs = np.array([point[0] for point in points])\n",
    "    ys = np.array([point[1] for point in points])\n",
    "    #xs=((((L)/2)*xs)+L/2)\n",
    "    #ys=((((L)/2)*ys)+L/2)\n",
    "    #ax.set_xlim([0,L])\n",
    "    #ax.set_ylim([0,L])\n",
    "    #circle1=plt.Circle(((L)/2, (L)/2), (L)/2, color='k',fill=False)\n",
    "    #ax.add_patch(circle1)\n",
    "    #circle2=plt.Circle(((L)/2, (L)/2), 0.6*(L)/2, color='r',fill=False)\n",
    "    #ax.add_patch(circle2)\n",
    "\n",
    "\n",
    "    ax.scatter(xs, ys,marker=\".\")\n",
    "    ax.set_aspect('equal') # display as square plot with equal axes\n",
    "    plt.show()"
   ]
  },
  {
   "cell_type": "code",
   "execution_count": 11,
   "metadata": {},
   "outputs": [
    {
     "data": {
      "text/plain": [
       "array([-0.14747378,  0.03028516,  0.27210213, -0.5210614 ,  0.50625318,\n",
       "       -0.17220201, -0.33236478,  0.72759515, -0.76223487,  0.423846  ,\n",
       "        0.29928386, -0.86521121,  0.97667577, -0.57512943, -0.12851069,\n",
       "        0.764649  , -0.99914605])"
      ]
     },
     "execution_count": 11,
     "metadata": {},
     "output_type": "execute_result"
    }
   ],
   "source": [
    "xs"
   ]
  },
  {
   "cell_type": "code",
   "execution_count": 12,
   "metadata": {},
   "outputs": [
    {
     "data": {
      "text/plain": [
       "array([ 0.13509806, -0.34508377,  0.35490905, -0.09216842, -0.32203683,\n",
       "        0.64058291, -0.63994816,  0.26571658,  0.31463947, -0.90573427,\n",
       "        0.95416412, -0.50140758, -0.21471943,  0.81806243, -0.99170812,\n",
       "        0.64444698,  0.04131783])"
      ]
     },
     "execution_count": 12,
     "metadata": {},
     "output_type": "execute_result"
    }
   ],
   "source": [
    "ys"
   ]
  },
  {
   "cell_type": "code",
   "execution_count": null,
   "metadata": {},
   "outputs": [],
   "source": []
  },
  {
   "cell_type": "code",
   "execution_count": 77,
   "metadata": {},
   "outputs": [
    {
     "data": {
      "text/plain": [
       "0"
      ]
     },
     "execution_count": 77,
     "metadata": {},
     "output_type": "execute_result"
    }
   ],
   "source": [
    "b"
   ]
  },
  {
   "cell_type": "code",
   "execution_count": null,
   "metadata": {},
   "outputs": [],
   "source": []
  }
 ],
 "metadata": {
  "kernelspec": {
   "display_name": "Python 3",
   "language": "python",
   "name": "python3"
  },
  "language_info": {
   "codemirror_mode": {
    "name": "ipython",
    "version": 3
   },
   "file_extension": ".py",
   "mimetype": "text/x-python",
   "name": "python",
   "nbconvert_exporter": "python",
   "pygments_lexer": "ipython3",
   "version": "3.8.3"
  }
 },
 "nbformat": 4,
 "nbformat_minor": 4
}
