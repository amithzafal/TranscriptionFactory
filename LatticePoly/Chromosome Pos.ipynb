{
 "cells": [
  {
   "cell_type": "code",
   "execution_count": 68,
   "metadata": {},
   "outputs": [
    {
     "data": {
      "image/png": "[encoded data removed]",
      "text/plain": [
       "<Figure size 432x288 with 1 Axes>"
      ]
     },
     "metadata": {
      "needs_background": "light"
     },
     "output_type": "display_data"
    }
   ],
   "source": [
    "import numpy as np\n",
    "import matplotlib.pyplot as plt\n",
    "\n",
    "\n",
    "def sunflower(n: int, alpha: float) -> np.ndarray:\n",
    "    # Number of points respectively on the boundary and inside the cirlce.\n",
    "    n_exterior = np.round(alpha * np.sqrt(n)).astype(int)\n",
    "    n_interior = n - n_exterior\n",
    "\n",
    "    # Ensure there are still some points in the inside...\n",
    "    if n_interior < 1:\n",
    "        raise RuntimeError(f\"Parameter 'alpha' is too large ({alpha}), all \"\n",
    "                           f\"points would end-up on the boundary.\")\n",
    "    # Generate the angles. The factor k_theta corresponds to 2*pi/phi^2.\n",
    "    k_theta = np.pi * (3 - np.sqrt(5))\n",
    "    angles = np.linspace(k_theta, k_theta * n, n)\n",
    "\n",
    "    # Generate the radii.\n",
    "    r_interior = np.sqrt(np.linspace(0, 1, n_interior))\n",
    "    r_exterior = np.ones((n_exterior,))\n",
    "    r = np.concatenate((r_interior, r_exterior))\n",
    "\n",
    "    # Return Cartesian coordinates from polar ones.\n",
    "    return r * np.stack((np.cos(angles), np.sin(angles)))\n",
    "\n",
    "    # NOTE: say the returned array is called s. The layout is such that s[0,:]\n",
    "    # contains X values and s[1,:] contains Y values. Change the above to\n",
    "    #   return r.reshape(n, 1) * np.stack((np.cos(angles), np.sin(angles)), axis=1)\n",
    "    # if you want s[:,0] and s[:,1] to contain X and Y values instead.\n",
    "\n",
    "L=50\n",
    "if __name__ == '__main__':\n",
    "    fig, ax = plt.subplots()\n",
    "\n",
    "    # Let's plot three sunflowers with different values of alpha!\n",
    "    for alpha in ([0]):\n",
    "        s = sunflower(16, alpha)\n",
    "        s=((3/4*(L/2)*s)+ L/2 +0.5)\n",
    "        # NOTE: the 'alpha=0.5' parameter is to control transparency, it does\n",
    "        # not have anything to do with the alpha used in 'sunflower' ;)\n",
    "        ax.scatter(np.array(s[0],dtype=int),np.array(s[1],dtype=int), alpha=0.5, label=f\"alpha={alpha}\")\n",
    "        ax.set_xlim([0,L])\n",
    "        ax.set_ylim([0,L])\n",
    "\n",
    "    # Display as square plot with equal axes and add a legend. Then show the result :)\n",
    "    ax.set_aspect('equal')\n",
    "    ax.legend()\n",
    "    plt.show()"
   ]
  },
  {
   "cell_type": "code",
   "execution_count": 72,
   "metadata": {},
   "outputs": [],
   "source": [
    "s = sunflower(16, alpha)\n",
    "s_=((3/4*(L/2)*s)+ L/2 +0.5)"
   ]
  },
  {
   "cell_type": "code",
   "execution_count": 73,
   "metadata": {},
   "outputs": [
    {
     "data": {
      "text/plain": [
       "array([[-0.        ,  0.02257323,  0.22217046, -0.44037726,  0.43571336,\n",
       "        -0.14988262, -0.2915032 ,  0.64167861, -0.67504655,  0.3283097 ,\n",
       "         0.24436425, -0.74092261,  0.87356537, -0.53541636, -0.12415312,\n",
       "         0.764649  ],\n",
       "       [ 0.        , -0.25721026,  0.28978202, -0.07789654, -0.27716517,\n",
       "         0.55755586, -0.56127167,  0.23434   ,  0.2786494 , -0.70157875,\n",
       "         0.77907174, -0.4293798 , -0.1920509 ,  0.76157468, -0.95808107,\n",
       "         0.64444698]])"
      ]
     },
     "execution_count": 73,
     "metadata": {},
     "output_type": "execute_result"
    }
   ],
   "source": [
    "s"
   ]
  },
  {
   "cell_type": "code",
   "execution_count": null,
   "metadata": {},
   "outputs": [],
   "source": []
  }
 ],
 "metadata": {
  "kernelspec": {
   "display_name": "Python 3",
   "language": "python",
   "name": "python3"
  },
  "language_info": {
   "codemirror_mode": {
    "name": "ipython",
    "version": 3
   },
   "file_extension": ".py",
   "mimetype": "text/x-python",
   "name": "python",
   "nbconvert_exporter": "python",
   "pygments_lexer": "ipython3",
   "version": "3.8.3"
  }
 },
 "nbformat": 4,
 "nbformat_minor": 4
}
