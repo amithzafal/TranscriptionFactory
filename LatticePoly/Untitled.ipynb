{
 "cells": [
  {
   "cell_type": "code",
   "execution_count": 1,
   "metadata": {},
   "outputs": [],
   "source": [
    "import os\n",
    "import sys\n",
    "import numba\n",
    "\n",
    "import math as m\n",
    "import numpy as np\n",
    "import networkx as nx\n",
    "\n",
    "from vtkReader import vtkReader\n",
    "from scipy.spatial import cKDTree"
   ]
  },
  {
   "cell_type": "code",
   "execution_count": 7,
   "metadata": {},
   "outputs": [
    {
     "name": "stdout",
     "output_type": "stream",
     "text": [
      "\u001b[1;34mParsing directory '/Users/mariachiara/Desktop/ENS_internship/LatticePoly/LatticePoly/data/output'\u001b[0m\n",
      "Box linear dimensions: (20,20,20)\n",
      "Initial liquid state: 3200 occupied sites\n"
     ]
    }
   ],
   "source": [
    "outputDir=\"/Users/mariachiara/Desktop/ENS_internship/LatticePoly/LatticePoly/data/output/\"\n",
    "reader=vtkReader(outputDir, 100, readLiq=True, readPoly=False)"
   ]
  },
  {
   "cell_type": "code",
   "execution_count": 14,
   "metadata": {},
   "outputs": [
    {
     "name": "stdout",
     "output_type": "stream",
     "text": [
      "None\n"
     ]
    }
   ],
   "source": [
    "print(reader.)"
   ]
  },
  {
   "cell_type": "code",
   "execution_count": 15,
   "metadata": {},
   "outputs": [],
   "source": [
    "data=next(reader)"
   ]
  },
  {
   "cell_type": "code",
   "execution_count": null,
   "metadata": {},
   "outputs": [],
   "source": []
  }
 ],
 "metadata": {
  "kernelspec": {
   "display_name": "Python 3",
   "language": "python",
   "name": "python3"
  },
  "language_info": {
   "codemirror_mode": {
    "name": "ipython",
    "version": 3
   },
   "file_extension": ".py",
   "mimetype": "text/x-python",
   "name": "python",
   "nbconvert_exporter": "python",
   "pygments_lexer": "ipython3",
   "version": "3.8.3"
  }
 },
 "nbformat": 4,
 "nbformat_minor": 4
}
