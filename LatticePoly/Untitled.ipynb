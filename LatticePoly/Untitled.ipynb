{
 "cells": [
  {
   "cell_type": "code",
   "execution_count": 2,
   "id": "9d731632",
   "metadata": {},
   "outputs": [
    {
     "name": "stdout",
     "output_type": "stream",
     "text": [
      "Relative Shape Anisotropy: nan\n"
     ]
    },
    {
     "name": "stderr",
     "output_type": "stream",
     "text": [
      "/tmp/ipykernel_69503/3809934757.py:25: RuntimeWarning: invalid value encountered in sqrt\n",
      "  rsa = np.sqrt(1 - (3 * sum_eigenvalues) / (sum_eigenvalues**2))\n"
     ]
    }
   ],
   "source": [
    "def compute_relative_shape_anisotropy(pos):\n",
    "    N = pos.shape[0]  # Number of points\n",
    "\n",
    "    if N < 3:\n",
    "        return np.nan  # Not enough points to define anisotropy\n",
    "\n",
    "    # Center the data\n",
    "    pos_centered = pos - np.mean(pos, axis=0)\n",
    "\n",
    "    # Compute Covariance Matrix (normalized by N, to prevent bias)\n",
    "    cov_matrix = np.cov(pos_centered, rowvar=False, bias=True)\n",
    "\n",
    "    # Compute Eigenvalues (sorted in descending order)\n",
    "    eigenvalues = np.linalg.eigvalsh(cov_matrix)[::-1]\n",
    "\n",
    "    # Handle cases where eigenvalues are very small or zero\n",
    "    if np.all(eigenvalues <= 1e-10):  # Nearly zero eigenvalues\n",
    "        return np.nan  # Undefined shape anisotropy\n",
    "\n",
    "    # Compute relative shape anisotropy safely\n",
    "    sum_eigenvalues = np.sum(eigenvalues)\n",
    "    if sum_eigenvalues == 0:\n",
    "        return np.nan  # Prevent division by zero\n",
    "\n",
    "    rsa = np.sqrt(1 - (3 * sum_eigenvalues) / (sum_eigenvalues**2))\n",
    "\n",
    "    return rsa\n",
    "\n",
    "# Example: Generate random 3D points\n",
    "pos = np.random.rand(100, 3)  # 100 random points in 3D\n",
    "relative_anisotropy = compute_relative_shape_anisotropy(pos)\n",
    "print(f\"Relative Shape Anisotropy: {relative_anisotropy}\")\n"
   ]
  },
  {
   "cell_type": "code",
   "execution_count": null,
   "id": "4b6ec071",
   "metadata": {},
   "outputs": [],
   "source": []
  }
 ],
 "metadata": {
  "kernelspec": {
   "display_name": "Python 3 (ipykernel)",
   "language": "python",
   "name": "python3"
  },
  "language_info": {
   "codemirror_mode": {
    "name": "ipython",
    "version": 3
   },
   "file_extension": ".py",
   "mimetype": "text/x-python",
   "name": "python",
   "nbconvert_exporter": "python",
   "pygments_lexer": "ipython3",
   "version": "3.9.5"
  }
 },
 "nbformat": 4,
 "nbformat_minor": 5
}
